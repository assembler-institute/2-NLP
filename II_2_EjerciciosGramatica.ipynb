{
 "cells": [
  {
   "cell_type": "markdown",
   "id": "b3c9baba",
   "metadata": {},
   "source": [
    "# Ejercicios gramática libre de contexto\n",
    "\n",
    "## Ejercicio 1\n",
    "\n",
    "Crea un analizador morfológico (Sujeto, predicado, complemento directo, complemento indirecto, sintagmas, etc) en español para las siguientes frases con **una sola gramática**:\n",
    "- El niño juega a la pelota\n",
    "- He tenido que llevar la tele a reparar\n",
    "- La niña juega en frente de la tele\n",
    "- El niño ha rapado al gato en la cocina\n",
    "\n",
    "\n",
    "## Ejercicio 2\n",
    "\n",
    "Diseña un sistema propio de tags y entrena un ngramas para taggear las frases del ejemplo anterior."
   ]
  }
 ],
 "metadata": {
  "kernelspec": {
   "display_name": "Python 3 (ipykernel)",
   "language": "python",
   "name": "python3"
  },
  "language_info": {
   "codemirror_mode": {
    "name": "ipython",
    "version": 3
   },
   "file_extension": ".py",
   "mimetype": "text/x-python",
   "name": "python",
   "nbconvert_exporter": "python",
   "pygments_lexer": "ipython3",
   "version": "3.9.13"
  }
 },
 "nbformat": 4,
 "nbformat_minor": 5
}
