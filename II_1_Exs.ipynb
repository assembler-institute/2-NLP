{
 "cells": [
  {
   "cell_type": "markdown",
   "id": "add8f216",
   "metadata": {},
   "source": [
    "# NLP II - Exercises\n",
    "\n",
    "## 1.- Property tagger\n",
    "\n",
    "Create a tagger that can detectect the object and the owner of it. Solve it using the EAGLES tags.\n",
    "\n",
    "Create the tagger from scratch, you can't use the cess_esp training set.\n",
    "\n",
    "Your tagger must be able to tag correctly this phrases (as minimum):\n",
    "\n",
    "- Eustaquio tiene un coche amarillo\n",
    "- Hermenegildo tiene un mechero\n",
    "- Sole tiene un huevo de avestruz\n",
    "- María quiere una tele curva\n",
    "- El niño pide tortilla\n",
    "\n",
    "The output have to be a dictionary like this: {\"Person\": \"Eustaquio\", \"Object\": \"Coche amarillo\"}"
   ]
  },
  {
   "cell_type": "markdown",
   "id": "49aac9a7",
   "metadata": {},
   "source": [
    "## 2.- Food tagger\n",
    "\n",
    "A major restaurant chain wants to implement a chat ordering system, so that customers simply write their order on a tablet or via whatsapp and the virtual assistant will take care of managing the order with the kitchen and waiters.\n",
    "\n",
    "The restaurant needs to have a list of the dishes and drinks separately along with the number of units of each item ordered (and the ingredients as optional).\n",
    "\n",
    "To do this exercise, train and compare the performance of each tagger, then choose the best one. You will have to retrain your tagger if needed."
   ]
  }
 ],
 "metadata": {
  "kernelspec": {
   "display_name": "Python 3 (ipykernel)",
   "language": "python",
   "name": "python3"
  },
  "language_info": {
   "codemirror_mode": {
    "name": "ipython",
    "version": 3
   },
   "file_extension": ".py",
   "mimetype": "text/x-python",
   "name": "python",
   "nbconvert_exporter": "python",
   "pygments_lexer": "ipython3",
   "version": "3.9.7"
  }
 },
 "nbformat": 4,
 "nbformat_minor": 5
}
